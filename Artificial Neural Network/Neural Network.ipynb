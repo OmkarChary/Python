{
 "cells": [
  {
   "cell_type": "code",
   "execution_count": 1,
   "metadata": {},
   "outputs": [
    {
     "name": "stdout",
     "output_type": "stream",
     "text": [
      "0.610639233949222\n"
     ]
    }
   ],
   "source": [
    "import math\n",
    "\n",
    "def sigmoid(x):\n",
    "  y = 1.0 / (1 + math.exp(-x))\n",
    "  return y\n",
    "\n",
    "def activate(input, weights):\n",
    "  #perform net input\n",
    "  h = 0\n",
    "  for x, w in zip(inputs, weights):\n",
    "    h += x*w\n",
    "\n",
    "  # perform activation\n",
    "  return sigmoid(h)\n",
    "\n",
    "inputs = [.5, .3, .2]\n",
    "weights = [.4, .7, .2]\n",
    "output = activate(inputs, weights)\n",
    "print(output)"
   ]
  },
  {
   "cell_type": "code",
   "execution_count": 2,
   "metadata": {},
   "outputs": [
    {
     "name": "stdout",
     "output_type": "stream",
     "text": [
      "0.610639233949222\n"
     ]
    }
   ],
   "source": [
    "import math\n",
    "\n",
    "def sigmoid(x):\n",
    "  y = 1.0 / (1 + math.exp(-x))\n",
    "  return y\n",
    "\n",
    "def activate(input, weights):\n",
    "  #perform net input\n",
    "  h = 0\n",
    "  for x, w in zip(inputs, weights):\n",
    "    h += x*w\n",
    "\n",
    "  # perform activation\n",
    "  return sigmoid(h)\n",
    "\n",
    "inputs = [.5, .3, .2]\n",
    "weights = [.4, .7, .2]\n",
    "output = activate(inputs, weights)\n",
    "print(output)"
   ]
  }
 ],
 "metadata": {
  "kernelspec": {
   "display_name": "Python 3",
   "language": "python",
   "name": "python3"
  },
  "language_info": {
   "codemirror_mode": {
    "name": "ipython",
    "version": 3
   },
   "file_extension": ".py",
   "mimetype": "text/x-python",
   "name": "python",
   "nbconvert_exporter": "python",
   "pygments_lexer": "ipython3",
   "version": "3.11.5"
  },
  "orig_nbformat": 4
 },
 "nbformat": 4,
 "nbformat_minor": 2
}
